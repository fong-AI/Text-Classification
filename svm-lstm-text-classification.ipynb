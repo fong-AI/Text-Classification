{
 "cells": [
  {
   "cell_type": "code",
   "execution_count": 2,
   "id": "0e1000ee",
   "metadata": {
    "_cell_guid": "b1076dfc-b9ad-4769-8c92-a6c4dae69d19",
    "_uuid": "8f2839f25d086af736a60e9eeb907d3b93b6e0e5",
    "execution": {
     "iopub.execute_input": "2024-05-08T20:09:57.876743Z",
     "iopub.status.busy": "2024-05-08T20:09:57.875844Z",
     "iopub.status.idle": "2024-05-08T20:10:00.094257Z",
     "shell.execute_reply": "2024-05-08T20:10:00.093322Z"
    },
    "papermill": {
     "duration": 2.230822,
     "end_time": "2024-05-08T20:10:00.096507",
     "exception": false,
     "start_time": "2024-05-08T20:09:57.865685",
     "status": "completed"
    },
    "tags": []
   },
   "outputs": [],
   "source": [
    "import pandas as pd\n",
    "import numpy as np\n",
    "import seaborn as sns\n",
    "import re\n",
    "import string"
   ]
  },
  {
   "cell_type": "code",
   "execution_count": 3,
   "id": "a51f3f90",
   "metadata": {},
   "outputs": [],
   "source": [
    "df = pd.read_csv('./data.csv', index_col='Unnamed: 0')"
   ]
  },
  {
   "cell_type": "markdown",
   "id": "7b80e54b",
   "metadata": {},
   "source": [
    "- Dữ liệu thô chưa được làm sạch"
   ]
  },
  {
   "cell_type": "code",
   "execution_count": 4,
   "id": "1da99d7c",
   "metadata": {
    "execution": {
     "iopub.execute_input": "2024-05-08T20:10:00.115027Z",
     "iopub.status.busy": "2024-05-08T20:10:00.114613Z",
     "iopub.status.idle": "2024-05-08T20:10:00.772151Z",
     "shell.execute_reply": "2024-05-08T20:10:00.771299Z"
    },
    "papermill": {
     "duration": 0.669198,
     "end_time": "2024-05-08T20:10:00.774478",
     "exception": false,
     "start_time": "2024-05-08T20:10:00.105280",
     "status": "completed"
    },
    "tags": []
   },
   "outputs": [
    {
     "data": {
      "text/html": [
       "<div>\n",
       "<style scoped>\n",
       "    .dataframe tbody tr th:only-of-type {\n",
       "        vertical-align: middle;\n",
       "    }\n",
       "\n",
       "    .dataframe tbody tr th {\n",
       "        vertical-align: top;\n",
       "    }\n",
       "\n",
       "    .dataframe thead th {\n",
       "        text-align: right;\n",
       "    }\n",
       "</style>\n",
       "<table border=\"1\" class=\"dataframe\">\n",
       "  <thead>\n",
       "    <tr style=\"text-align: right;\">\n",
       "      <th></th>\n",
       "      <th>Bai bao</th>\n",
       "      <th>Chu de</th>\n",
       "    </tr>\n",
       "  </thead>\n",
       "  <tbody>\n",
       "    <tr>\n",
       "      <th>0</th>\n",
       "      <td>Đại học Cần Thơ đã hoàn tất việc xét miễn giảm...</td>\n",
       "      <td>chinh tri xa hoi</td>\n",
       "    </tr>\n",
       "    <tr>\n",
       "      <th>1</th>\n",
       "      <td>TP.HCM: sẽ lập trung tâm kiểm định đồng hồ nướ...</td>\n",
       "      <td>chinh tri xa hoi</td>\n",
       "    </tr>\n",
       "    <tr>\n",
       "      <th>2</th>\n",
       "      <td>Cung đường nhập lậu gia cầm vào TP HCM\\n5h30 s...</td>\n",
       "      <td>chinh tri xa hoi</td>\n",
       "    </tr>\n",
       "    <tr>\n",
       "      <th>3</th>\n",
       "      <td>Không thể nghiên cứu khoa học nếu học để đối p...</td>\n",
       "      <td>chinh tri xa hoi</td>\n",
       "    </tr>\n",
       "    <tr>\n",
       "      <th>4</th>\n",
       "      <td>Microsoft và Linux sẽ thống trị thị trường ĐTD...</td>\n",
       "      <td>vi tinh</td>\n",
       "    </tr>\n",
       "  </tbody>\n",
       "</table>\n",
       "</div>"
      ],
      "text/plain": [
       "                                             Bai bao            Chu de\n",
       "0  Đại học Cần Thơ đã hoàn tất việc xét miễn giảm...  chinh tri xa hoi\n",
       "1  TP.HCM: sẽ lập trung tâm kiểm định đồng hồ nướ...  chinh tri xa hoi\n",
       "2  Cung đường nhập lậu gia cầm vào TP HCM\\n5h30 s...  chinh tri xa hoi\n",
       "3  Không thể nghiên cứu khoa học nếu học để đối p...  chinh tri xa hoi\n",
       "4  Microsoft và Linux sẽ thống trị thị trường ĐTD...           vi tinh"
      ]
     },
     "execution_count": 4,
     "metadata": {},
     "output_type": "execute_result"
    }
   ],
   "source": [
    "df.head(5)"
   ]
  },
  {
   "cell_type": "markdown",
   "id": "23b9f9f3",
   "metadata": {},
   "source": [
    "- Tạo hàm clean dữ liệu\n",
    "    + chuyển về kí tự in thường\n",
    "    + loại bỏ các dấu câu\n",
    "    + loại bỏ các chữ có chứa số"
   ]
  },
  {
   "cell_type": "code",
   "execution_count": 5,
   "id": "4d437dda",
   "metadata": {},
   "outputs": [],
   "source": [
    "def cleaner(text):\n",
    "    text = text.lower()\n",
    "    text = ' '.join(word.strip(string.punctuation) for word in text.split())\n",
    "    text = ' '.join(s for s in text.split() if not any(c.isdigit() for c in s))\n",
    "    text = re.sub(r'[^\\w\\s]', '', text)\n",
    "    return text"
   ]
  },
  {
   "cell_type": "code",
   "execution_count": 6,
   "id": "3b386bbf",
   "metadata": {},
   "outputs": [],
   "source": [
    "df['Bai bao'] = df['Bai bao'].apply(lambda x: cleaner(x))"
   ]
  },
  {
   "cell_type": "markdown",
   "id": "95d44a99",
   "metadata": {},
   "source": [
    "- Dữ liệu sau khi đã làm sạch"
   ]
  },
  {
   "cell_type": "code",
   "execution_count": 7,
   "id": "8d25c284",
   "metadata": {},
   "outputs": [
    {
     "data": {
      "text/html": [
       "<div>\n",
       "<style scoped>\n",
       "    .dataframe tbody tr th:only-of-type {\n",
       "        vertical-align: middle;\n",
       "    }\n",
       "\n",
       "    .dataframe tbody tr th {\n",
       "        vertical-align: top;\n",
       "    }\n",
       "\n",
       "    .dataframe thead th {\n",
       "        text-align: right;\n",
       "    }\n",
       "</style>\n",
       "<table border=\"1\" class=\"dataframe\">\n",
       "  <thead>\n",
       "    <tr style=\"text-align: right;\">\n",
       "      <th></th>\n",
       "      <th>Bai bao</th>\n",
       "      <th>Chu de</th>\n",
       "    </tr>\n",
       "  </thead>\n",
       "  <tbody>\n",
       "    <tr>\n",
       "      <th>0</th>\n",
       "      <td>đại học cần thơ đã hoàn tất việc xét miễn giảm...</td>\n",
       "      <td>chinh tri xa hoi</td>\n",
       "    </tr>\n",
       "    <tr>\n",
       "      <th>1</th>\n",
       "      <td>tphcm sẽ lập trung tâm kiểm định đồng hồ nước ...</td>\n",
       "      <td>chinh tri xa hoi</td>\n",
       "    </tr>\n",
       "    <tr>\n",
       "      <th>2</th>\n",
       "      <td>cung đường nhập lậu gia cầm vào tp hcm sáng đo...</td>\n",
       "      <td>chinh tri xa hoi</td>\n",
       "    </tr>\n",
       "    <tr>\n",
       "      <th>3</th>\n",
       "      <td>không thể nghiên cứu khoa học nếu học để đối p...</td>\n",
       "      <td>chinh tri xa hoi</td>\n",
       "    </tr>\n",
       "    <tr>\n",
       "      <th>4</th>\n",
       "      <td>microsoft và linux sẽ thống trị thị trường đtd...</td>\n",
       "      <td>vi tinh</td>\n",
       "    </tr>\n",
       "  </tbody>\n",
       "</table>\n",
       "</div>"
      ],
      "text/plain": [
       "                                             Bai bao            Chu de\n",
       "0  đại học cần thơ đã hoàn tất việc xét miễn giảm...  chinh tri xa hoi\n",
       "1  tphcm sẽ lập trung tâm kiểm định đồng hồ nước ...  chinh tri xa hoi\n",
       "2  cung đường nhập lậu gia cầm vào tp hcm sáng đo...  chinh tri xa hoi\n",
       "3  không thể nghiên cứu khoa học nếu học để đối p...  chinh tri xa hoi\n",
       "4  microsoft và linux sẽ thống trị thị trường đtd...           vi tinh"
      ]
     },
     "execution_count": 7,
     "metadata": {},
     "output_type": "execute_result"
    }
   ],
   "source": [
    "df.head(5)"
   ]
  },
  {
   "cell_type": "markdown",
   "id": "dee03fc1",
   "metadata": {},
   "source": [
    "### Tokenize dữ liệu"
   ]
  },
  {
   "cell_type": "code",
   "execution_count": 8,
   "id": "ad650302",
   "metadata": {},
   "outputs": [],
   "source": [
    "from vncorenlp import VnCoreNLP\n",
    "rdrsegmenter = VnCoreNLP(\"vncorenlp/VnCoreNLP-1.1.1.jar\", annotators=\"wseg\", max_heap_size='-Xmx500m') "
   ]
  },
  {
   "cell_type": "code",
   "execution_count": 9,
   "id": "cfe4329d",
   "metadata": {},
   "outputs": [],
   "source": [
    "def tokenizer(text):\n",
    "    sentence = rdrsegmenter.tokenize(text)\n",
    "    return ' '.join(sentence[0])"
   ]
  },
  {
   "cell_type": "code",
   "execution_count": 10,
   "id": "9a7f9742",
   "metadata": {},
   "outputs": [],
   "source": [
    "df['Bai bao'] = df['Bai bao'].apply(lambda x: tokenizer(x))"
   ]
  },
  {
   "cell_type": "markdown",
   "id": "8863765b",
   "metadata": {},
   "source": [
    "- Dữ liệu sau khi đã làm sạch và tokenize"
   ]
  },
  {
   "cell_type": "code",
   "execution_count": 11,
   "id": "4b1c6130",
   "metadata": {
    "execution": {
     "iopub.execute_input": "2024-05-08T20:10:00.793937Z",
     "iopub.status.busy": "2024-05-08T20:10:00.793639Z",
     "iopub.status.idle": "2024-05-08T20:10:00.807657Z",
     "shell.execute_reply": "2024-05-08T20:10:00.806862Z"
    },
    "papermill": {
     "duration": 0.025545,
     "end_time": "2024-05-08T20:10:00.809766",
     "exception": false,
     "start_time": "2024-05-08T20:10:00.784221",
     "status": "completed"
    },
    "tags": []
   },
   "outputs": [
    {
     "data": {
      "text/html": [
       "<div>\n",
       "<style scoped>\n",
       "    .dataframe tbody tr th:only-of-type {\n",
       "        vertical-align: middle;\n",
       "    }\n",
       "\n",
       "    .dataframe tbody tr th {\n",
       "        vertical-align: top;\n",
       "    }\n",
       "\n",
       "    .dataframe thead th {\n",
       "        text-align: right;\n",
       "    }\n",
       "</style>\n",
       "<table border=\"1\" class=\"dataframe\">\n",
       "  <thead>\n",
       "    <tr style=\"text-align: right;\">\n",
       "      <th></th>\n",
       "      <th>Bai bao</th>\n",
       "      <th>Chu de</th>\n",
       "    </tr>\n",
       "  </thead>\n",
       "  <tbody>\n",
       "    <tr>\n",
       "      <th>0</th>\n",
       "      <td>đại_học cần_thơ đã hoàn_tất việc xét miễn_giảm...</td>\n",
       "      <td>chinh tri xa hoi</td>\n",
       "    </tr>\n",
       "    <tr>\n",
       "      <th>1</th>\n",
       "      <td>tphcm sẽ lập trung_tâm kiểm_định đồng_hồ nước_...</td>\n",
       "      <td>chinh tri xa hoi</td>\n",
       "    </tr>\n",
       "    <tr>\n",
       "      <th>2</th>\n",
       "      <td>cung đường nhập lậu gia_cầm vào tp hcm sáng đo...</td>\n",
       "      <td>chinh tri xa hoi</td>\n",
       "    </tr>\n",
       "    <tr>\n",
       "      <th>3</th>\n",
       "      <td>không_thể nghiên_cứu khoa_học nếu học để đối_p...</td>\n",
       "      <td>chinh tri xa hoi</td>\n",
       "    </tr>\n",
       "    <tr>\n",
       "      <th>4</th>\n",
       "      <td>microsoft và linux sẽ thống_trị thị_trường đtd...</td>\n",
       "      <td>vi tinh</td>\n",
       "    </tr>\n",
       "  </tbody>\n",
       "</table>\n",
       "</div>"
      ],
      "text/plain": [
       "                                             Bai bao            Chu de\n",
       "0  đại_học cần_thơ đã hoàn_tất việc xét miễn_giảm...  chinh tri xa hoi\n",
       "1  tphcm sẽ lập trung_tâm kiểm_định đồng_hồ nước_...  chinh tri xa hoi\n",
       "2  cung đường nhập lậu gia_cầm vào tp hcm sáng đo...  chinh tri xa hoi\n",
       "3  không_thể nghiên_cứu khoa_học nếu học để đối_p...  chinh tri xa hoi\n",
       "4  microsoft và linux sẽ thống_trị thị_trường đtd...           vi tinh"
      ]
     },
     "execution_count": 11,
     "metadata": {},
     "output_type": "execute_result"
    }
   ],
   "source": [
    "df.head(5)"
   ]
  },
  {
   "cell_type": "markdown",
   "id": "1942ce4c",
   "metadata": {
    "papermill": {
     "duration": 0.009426,
     "end_time": "2024-05-08T20:10:00.829042",
     "exception": false,
     "start_time": "2024-05-08T20:10:00.819616",
     "status": "completed"
    },
    "tags": []
   },
   "source": [
    "- Kiểm tra độ dài của các chuỗi, độ dài tập trung nhiều trong khoảng từ 0 -> 2000"
   ]
  },
  {
   "cell_type": "code",
   "execution_count": 4,
   "id": "7c4cd44a",
   "metadata": {
    "execution": {
     "iopub.execute_input": "2024-05-08T20:10:00.849327Z",
     "iopub.status.busy": "2024-05-08T20:10:00.849007Z",
     "iopub.status.idle": "2024-05-08T20:10:02.187831Z",
     "shell.execute_reply": "2024-05-08T20:10:02.186948Z"
    },
    "papermill": {
     "duration": 1.351273,
     "end_time": "2024-05-08T20:10:02.189883",
     "exception": false,
     "start_time": "2024-05-08T20:10:00.838610",
     "status": "completed"
    },
    "tags": []
   },
   "outputs": [
    {
     "name": "stderr",
     "output_type": "stream",
     "text": [
      "/opt/conda/lib/python3.10/site-packages/seaborn/_oldcore.py:1119: FutureWarning: use_inf_as_na option is deprecated and will be removed in a future version. Convert inf values to NaN before operating instead.\n",
      "  with pd.option_context('mode.use_inf_as_na', True):\n"
     ]
    },
    {
     "data": {
      "image/png": "[encoded data removed]",
      "text/plain": [
       "<Figure size 640x480 with 1 Axes>"
      ]
     },
     "metadata": {},
     "output_type": "display_data"
    }
   ],
   "source": [
    "df['Do dai'] = df['Bai bao'].str.count(' ') + 1\n",
    "sns.histplot(df['Do dai']);"
   ]
  },
  {
   "cell_type": "markdown",
   "id": "e081a7aa",
   "metadata": {
    "papermill": {
     "duration": 0.009189,
     "end_time": "2024-05-08T20:10:02.208337",
     "exception": false,
     "start_time": "2024-05-08T20:10:02.199148",
     "status": "completed"
    },
    "tags": []
   },
   "source": [
    "### 1. SVM + TFIDF"
   ]
  },
  {
   "cell_type": "code",
   "execution_count": 5,
   "id": "1510cdc7",
   "metadata": {
    "execution": {
     "iopub.execute_input": "2024-05-08T20:10:02.228719Z",
     "iopub.status.busy": "2024-05-08T20:10:02.228404Z",
     "iopub.status.idle": "2024-05-08T20:10:02.598868Z",
     "shell.execute_reply": "2024-05-08T20:10:02.598047Z"
    },
    "papermill": {
     "duration": 0.382864,
     "end_time": "2024-05-08T20:10:02.601180",
     "exception": false,
     "start_time": "2024-05-08T20:10:02.218316",
     "status": "completed"
    },
    "tags": []
   },
   "outputs": [],
   "source": [
    "from sklearn.preprocessing import LabelEncoder\n",
    "from collections import defaultdict\n",
    "from sklearn.feature_extraction.text import TfidfVectorizer\n",
    "from sklearn import model_selection, svm\n",
    "from sklearn.metrics import accuracy_score"
   ]
  },
  {
   "cell_type": "markdown",
   "id": "c8a2a9d4",
   "metadata": {
    "papermill": {
     "duration": 0.008745,
     "end_time": "2024-05-08T20:10:02.619527",
     "exception": false,
     "start_time": "2024-05-08T20:10:02.610782",
     "status": "completed"
    },
    "tags": []
   },
   "source": [
    "- Chia tập dữ liệu train: 80% và test: 20%"
   ]
  },
  {
   "cell_type": "code",
   "execution_count": 6,
   "id": "42047450",
   "metadata": {
    "execution": {
     "iopub.execute_input": "2024-05-08T20:10:02.638498Z",
     "iopub.status.busy": "2024-05-08T20:10:02.638212Z",
     "iopub.status.idle": "2024-05-08T20:10:02.647131Z",
     "shell.execute_reply": "2024-05-08T20:10:02.646432Z"
    },
    "papermill": {
     "duration": 0.020818,
     "end_time": "2024-05-08T20:10:02.649160",
     "exception": false,
     "start_time": "2024-05-08T20:10:02.628342",
     "status": "completed"
    },
    "tags": []
   },
   "outputs": [],
   "source": [
    "X_train, X_test, y_train, y_test = model_selection.train_test_split(df['Bai bao'], df['Chu de'], test_size=0.2, shuffle=True, random_state=12)"
   ]
  },
  {
   "cell_type": "code",
   "execution_count": 7,
   "id": "99b031cd",
   "metadata": {
    "execution": {
     "iopub.execute_input": "2024-05-08T20:10:02.669624Z",
     "iopub.status.busy": "2024-05-08T20:10:02.669090Z",
     "iopub.status.idle": "2024-05-08T20:10:02.674807Z",
     "shell.execute_reply": "2024-05-08T20:10:02.673990Z"
    },
    "papermill": {
     "duration": 0.018066,
     "end_time": "2024-05-08T20:10:02.676822",
     "exception": false,
     "start_time": "2024-05-08T20:10:02.658756",
     "status": "completed"
    },
    "tags": []
   },
   "outputs": [
    {
     "data": {
      "text/plain": [
       "(6160,)"
      ]
     },
     "execution_count": 7,
     "metadata": {},
     "output_type": "execute_result"
    }
   ],
   "source": [
    "np.array(X_train).shape"
   ]
  },
  {
   "cell_type": "markdown",
   "id": "282a70a6",
   "metadata": {
    "papermill": {
     "duration": 0.009543,
     "end_time": "2024-05-08T20:10:02.696342",
     "exception": false,
     "start_time": "2024-05-08T20:10:02.686799",
     "status": "completed"
    },
    "tags": []
   },
   "source": [
    "- Encode nhãn"
   ]
  },
  {
   "cell_type": "code",
   "execution_count": 8,
   "id": "1d154dd1",
   "metadata": {
    "execution": {
     "iopub.execute_input": "2024-05-08T20:10:02.716827Z",
     "iopub.status.busy": "2024-05-08T20:10:02.716579Z",
     "iopub.status.idle": "2024-05-08T20:10:02.722889Z",
     "shell.execute_reply": "2024-05-08T20:10:02.722078Z"
    },
    "papermill": {
     "duration": 0.018826,
     "end_time": "2024-05-08T20:10:02.724901",
     "exception": false,
     "start_time": "2024-05-08T20:10:02.706075",
     "status": "completed"
    },
    "tags": []
   },
   "outputs": [],
   "source": [
    "encoder = LabelEncoder()\n",
    "y_train = encoder.fit_transform(y_train)\n",
    "y_test = encoder.fit_transform(y_test)"
   ]
  },
  {
   "cell_type": "markdown",
   "id": "208af0f9",
   "metadata": {
    "papermill": {
     "duration": 0.008833,
     "end_time": "2024-05-08T20:10:02.742853",
     "exception": false,
     "start_time": "2024-05-08T20:10:02.734020",
     "status": "completed"
    },
    "tags": []
   },
   "source": [
    "- Khởi tạo tfidf với số từ vựng là 1000 và số chiều của 1 văn bản là 1000"
   ]
  },
  {
   "cell_type": "code",
   "execution_count": 9,
   "id": "90e72db5",
   "metadata": {
    "execution": {
     "iopub.execute_input": "2024-05-08T20:10:02.762557Z",
     "iopub.status.busy": "2024-05-08T20:10:02.762303Z",
     "iopub.status.idle": "2024-05-08T20:10:05.504827Z",
     "shell.execute_reply": "2024-05-08T20:10:05.503811Z"
    },
    "papermill": {
     "duration": 2.754481,
     "end_time": "2024-05-08T20:10:05.506843",
     "exception": false,
     "start_time": "2024-05-08T20:10:02.752362",
     "status": "completed"
    },
    "tags": []
   },
   "outputs": [
    {
     "data": {
      "text/html": [
       "<style>#sk-container-id-1 {color: black;background-color: white;}#sk-container-id-1 pre{padding: 0;}#sk-container-id-1 div.sk-toggleable {background-color: white;}#sk-container-id-1 label.sk-toggleable__label {cursor: pointer;display: block;width: 100%;margin-bottom: 0;padding: 0.3em;box-sizing: border-box;text-align: center;}#sk-container-id-1 label.sk-toggleable__label-arrow:before {content: \"▸\";float: left;margin-right: 0.25em;color: #696969;}#sk-container-id-1 label.sk-toggleable__label-arrow:hover:before {color: black;}#sk-container-id-1 div.sk-estimator:hover label.sk-toggleable__label-arrow:before {color: black;}#sk-container-id-1 div.sk-toggleable__content {max-height: 0;max-width: 0;overflow: hidden;text-align: left;background-color: #f0f8ff;}#sk-container-id-1 div.sk-toggleable__content pre {margin: 0.2em;color: black;border-radius: 0.25em;background-color: #f0f8ff;}#sk-container-id-1 input.sk-toggleable__control:checked~div.sk-toggleable__content {max-height: 200px;max-width: 100%;overflow: auto;}#sk-container-id-1 input.sk-toggleable__control:checked~label.sk-toggleable__label-arrow:before {content: \"▾\";}#sk-container-id-1 div.sk-estimator input.sk-toggleable__control:checked~label.sk-toggleable__label {background-color: #d4ebff;}#sk-container-id-1 div.sk-label input.sk-toggleable__control:checked~label.sk-toggleable__label {background-color: #d4ebff;}#sk-container-id-1 input.sk-hidden--visually {border: 0;clip: rect(1px 1px 1px 1px);clip: rect(1px, 1px, 1px, 1px);height: 1px;margin: -1px;overflow: hidden;padding: 0;position: absolute;width: 1px;}#sk-container-id-1 div.sk-estimator {font-family: monospace;background-color: #f0f8ff;border: 1px dotted black;border-radius: 0.25em;box-sizing: border-box;margin-bottom: 0.5em;}#sk-container-id-1 div.sk-estimator:hover {background-color: #d4ebff;}#sk-container-id-1 div.sk-parallel-item::after {content: \"\";width: 100%;border-bottom: 1px solid gray;flex-grow: 1;}#sk-container-id-1 div.sk-label:hover label.sk-toggleable__label {background-color: #d4ebff;}#sk-container-id-1 div.sk-serial::before {content: \"\";position: absolute;border-left: 1px solid gray;box-sizing: border-box;top: 0;bottom: 0;left: 50%;z-index: 0;}#sk-container-id-1 div.sk-serial {display: flex;flex-direction: column;align-items: center;background-color: white;padding-right: 0.2em;padding-left: 0.2em;position: relative;}#sk-container-id-1 div.sk-item {position: relative;z-index: 1;}#sk-container-id-1 div.sk-parallel {display: flex;align-items: stretch;justify-content: center;background-color: white;position: relative;}#sk-container-id-1 div.sk-item::before, #sk-container-id-1 div.sk-parallel-item::before {content: \"\";position: absolute;border-left: 1px solid gray;box-sizing: border-box;top: 0;bottom: 0;left: 50%;z-index: -1;}#sk-container-id-1 div.sk-parallel-item {display: flex;flex-direction: column;z-index: 1;position: relative;background-color: white;}#sk-container-id-1 div.sk-parallel-item:first-child::after {align-self: flex-end;width: 50%;}#sk-container-id-1 div.sk-parallel-item:last-child::after {align-self: flex-start;width: 50%;}#sk-container-id-1 div.sk-parallel-item:only-child::after {width: 0;}#sk-container-id-1 div.sk-dashed-wrapped {border: 1px dashed gray;margin: 0 0.4em 0.5em 0.4em;box-sizing: border-box;padding-bottom: 0.4em;background-color: white;}#sk-container-id-1 div.sk-label label {font-family: monospace;font-weight: bold;display: inline-block;line-height: 1.2em;}#sk-container-id-1 div.sk-label-container {text-align: center;}#sk-container-id-1 div.sk-container {/* jupyter's `normalize.less` sets `[hidden] { display: none; }` but bootstrap.min.css set `[hidden] { display: none !important; }` so we also need the `!important` here to be able to override the default hidden behavior on the sphinx rendered scikit-learn.org. See: https://github.com/scikit-learn/scikit-learn/issues/21755 */display: inline-block !important;position: relative;}#sk-container-id-1 div.sk-text-repr-fallback {display: none;}</style><div id=\"sk-container-id-1\" class=\"sk-top-container\"><div class=\"sk-text-repr-fallback\"><pre>TfidfVectorizer(max_features=1000)</pre><b>In a Jupyter environment, please rerun this cell to show the HTML representation or trust the notebook. <br />On GitHub, the HTML representation is unable to render, please try loading this page with nbviewer.org.</b></div><div class=\"sk-container\" hidden><div class=\"sk-item\"><div class=\"sk-estimator sk-toggleable\"><input class=\"sk-toggleable__control sk-hidden--visually\" id=\"sk-estimator-id-1\" type=\"checkbox\" checked><label for=\"sk-estimator-id-1\" class=\"sk-toggleable__label sk-toggleable__label-arrow\">TfidfVectorizer</label><div class=\"sk-toggleable__content\"><pre>TfidfVectorizer(max_features=1000)</pre></div></div></div></div></div>"
      ],
      "text/plain": [
       "TfidfVectorizer(max_features=1000)"
      ]
     },
     "execution_count": 9,
     "metadata": {},
     "output_type": "execute_result"
    }
   ],
   "source": [
    "tfidf = TfidfVectorizer(max_features=1000)\n",
    "tfidf.fit(df['Bai bao'])"
   ]
  },
  {
   "cell_type": "markdown",
   "id": "baef1c92",
   "metadata": {
    "papermill": {
     "duration": 0.009436,
     "end_time": "2024-05-08T20:10:05.525915",
     "exception": false,
     "start_time": "2024-05-08T20:10:05.516479",
     "status": "completed"
    },
    "tags": []
   },
   "source": [
    "- Biến đổi dữ liệu thành vector tfidf"
   ]
  },
  {
   "cell_type": "code",
   "execution_count": 10,
   "id": "a030e8cf",
   "metadata": {
    "execution": {
     "iopub.execute_input": "2024-05-08T20:10:05.546059Z",
     "iopub.status.busy": "2024-05-08T20:10:05.545711Z",
     "iopub.status.idle": "2024-05-08T20:10:08.387191Z",
     "shell.execute_reply": "2024-05-08T20:10:08.386391Z"
    },
    "papermill": {
     "duration": 2.85468,
     "end_time": "2024-05-08T20:10:08.389727",
     "exception": false,
     "start_time": "2024-05-08T20:10:05.535047",
     "status": "completed"
    },
    "tags": []
   },
   "outputs": [],
   "source": [
    "X_train_svm = tfidf.transform(X_train)\n",
    "X_test_svm = tfidf.transform(X_test)"
   ]
  },
  {
   "cell_type": "markdown",
   "id": "b05a7dce",
   "metadata": {
    "papermill": {
     "duration": 0.009216,
     "end_time": "2024-05-08T20:10:08.409137",
     "exception": false,
     "start_time": "2024-05-08T20:10:08.399921",
     "status": "completed"
    },
    "tags": []
   },
   "source": [
    "#### SVM"
   ]
  },
  {
   "cell_type": "code",
   "execution_count": 11,
   "id": "4cbabb5a",
   "metadata": {
    "execution": {
     "iopub.execute_input": "2024-05-08T20:10:08.428739Z",
     "iopub.status.busy": "2024-05-08T20:10:08.428459Z",
     "iopub.status.idle": "2024-05-08T20:10:12.621971Z",
     "shell.execute_reply": "2024-05-08T20:10:12.620910Z"
    },
    "papermill": {
     "duration": 4.206398,
     "end_time": "2024-05-08T20:10:12.624713",
     "exception": false,
     "start_time": "2024-05-08T20:10:08.418315",
     "status": "completed"
    },
    "tags": []
   },
   "outputs": [
    {
     "data": {
      "text/html": [
       "<style>#sk-container-id-2 {color: black;background-color: white;}#sk-container-id-2 pre{padding: 0;}#sk-container-id-2 div.sk-toggleable {background-color: white;}#sk-container-id-2 label.sk-toggleable__label {cursor: pointer;display: block;width: 100%;margin-bottom: 0;padding: 0.3em;box-sizing: border-box;text-align: center;}#sk-container-id-2 label.sk-toggleable__label-arrow:before {content: \"▸\";float: left;margin-right: 0.25em;color: #696969;}#sk-container-id-2 label.sk-toggleable__label-arrow:hover:before {color: black;}#sk-container-id-2 div.sk-estimator:hover label.sk-toggleable__label-arrow:before {color: black;}#sk-container-id-2 div.sk-toggleable__content {max-height: 0;max-width: 0;overflow: hidden;text-align: left;background-color: #f0f8ff;}#sk-container-id-2 div.sk-toggleable__content pre {margin: 0.2em;color: black;border-radius: 0.25em;background-color: #f0f8ff;}#sk-container-id-2 input.sk-toggleable__control:checked~div.sk-toggleable__content {max-height: 200px;max-width: 100%;overflow: auto;}#sk-container-id-2 input.sk-toggleable__control:checked~label.sk-toggleable__label-arrow:before {content: \"▾\";}#sk-container-id-2 div.sk-estimator input.sk-toggleable__control:checked~label.sk-toggleable__label {background-color: #d4ebff;}#sk-container-id-2 div.sk-label input.sk-toggleable__control:checked~label.sk-toggleable__label {background-color: #d4ebff;}#sk-container-id-2 input.sk-hidden--visually {border: 0;clip: rect(1px 1px 1px 1px);clip: rect(1px, 1px, 1px, 1px);height: 1px;margin: -1px;overflow: hidden;padding: 0;position: absolute;width: 1px;}#sk-container-id-2 div.sk-estimator {font-family: monospace;background-color: #f0f8ff;border: 1px dotted black;border-radius: 0.25em;box-sizing: border-box;margin-bottom: 0.5em;}#sk-container-id-2 div.sk-estimator:hover {background-color: #d4ebff;}#sk-container-id-2 div.sk-parallel-item::after {content: \"\";width: 100%;border-bottom: 1px solid gray;flex-grow: 1;}#sk-container-id-2 div.sk-label:hover label.sk-toggleable__label {background-color: #d4ebff;}#sk-container-id-2 div.sk-serial::before {content: \"\";position: absolute;border-left: 1px solid gray;box-sizing: border-box;top: 0;bottom: 0;left: 50%;z-index: 0;}#sk-container-id-2 div.sk-serial {display: flex;flex-direction: column;align-items: center;background-color: white;padding-right: 0.2em;padding-left: 0.2em;position: relative;}#sk-container-id-2 div.sk-item {position: relative;z-index: 1;}#sk-container-id-2 div.sk-parallel {display: flex;align-items: stretch;justify-content: center;background-color: white;position: relative;}#sk-container-id-2 div.sk-item::before, #sk-container-id-2 div.sk-parallel-item::before {content: \"\";position: absolute;border-left: 1px solid gray;box-sizing: border-box;top: 0;bottom: 0;left: 50%;z-index: -1;}#sk-container-id-2 div.sk-parallel-item {display: flex;flex-direction: column;z-index: 1;position: relative;background-color: white;}#sk-container-id-2 div.sk-parallel-item:first-child::after {align-self: flex-end;width: 50%;}#sk-container-id-2 div.sk-parallel-item:last-child::after {align-self: flex-start;width: 50%;}#sk-container-id-2 div.sk-parallel-item:only-child::after {width: 0;}#sk-container-id-2 div.sk-dashed-wrapped {border: 1px dashed gray;margin: 0 0.4em 0.5em 0.4em;box-sizing: border-box;padding-bottom: 0.4em;background-color: white;}#sk-container-id-2 div.sk-label label {font-family: monospace;font-weight: bold;display: inline-block;line-height: 1.2em;}#sk-container-id-2 div.sk-label-container {text-align: center;}#sk-container-id-2 div.sk-container {/* jupyter's `normalize.less` sets `[hidden] { display: none; }` but bootstrap.min.css set `[hidden] { display: none !important; }` so we also need the `!important` here to be able to override the default hidden behavior on the sphinx rendered scikit-learn.org. See: https://github.com/scikit-learn/scikit-learn/issues/21755 */display: inline-block !important;position: relative;}#sk-container-id-2 div.sk-text-repr-fallback {display: none;}</style><div id=\"sk-container-id-2\" class=\"sk-top-container\"><div class=\"sk-text-repr-fallback\"><pre>SVC(gamma=&#x27;auto&#x27;, kernel=&#x27;linear&#x27;)</pre><b>In a Jupyter environment, please rerun this cell to show the HTML representation or trust the notebook. <br />On GitHub, the HTML representation is unable to render, please try loading this page with nbviewer.org.</b></div><div class=\"sk-container\" hidden><div class=\"sk-item\"><div class=\"sk-estimator sk-toggleable\"><input class=\"sk-toggleable__control sk-hidden--visually\" id=\"sk-estimator-id-2\" type=\"checkbox\" checked><label for=\"sk-estimator-id-2\" class=\"sk-toggleable__label sk-toggleable__label-arrow\">SVC</label><div class=\"sk-toggleable__content\"><pre>SVC(gamma=&#x27;auto&#x27;, kernel=&#x27;linear&#x27;)</pre></div></div></div></div></div>"
      ],
      "text/plain": [
       "SVC(gamma='auto', kernel='linear')"
      ]
     },
     "execution_count": 11,
     "metadata": {},
     "output_type": "execute_result"
    }
   ],
   "source": [
    "SVM = svm.SVC(C=1.0, kernel='linear', gamma='auto')\n",
    "SVM.fit(X_train_svm, y_train)"
   ]
  },
  {
   "cell_type": "code",
   "execution_count": 12,
   "id": "d318c436",
   "metadata": {
    "execution": {
     "iopub.execute_input": "2024-05-08T20:10:12.650810Z",
     "iopub.status.busy": "2024-05-08T20:10:12.649796Z",
     "iopub.status.idle": "2024-05-08T20:10:13.585734Z",
     "shell.execute_reply": "2024-05-08T20:10:13.584963Z"
    },
    "papermill": {
     "duration": 0.951216,
     "end_time": "2024-05-08T20:10:13.588138",
     "exception": false,
     "start_time": "2024-05-08T20:10:12.636922",
     "status": "completed"
    },
    "tags": []
   },
   "outputs": [],
   "source": [
    "preds_svm = SVM.predict(X_test_svm)"
   ]
  },
  {
   "cell_type": "code",
   "execution_count": 13,
   "id": "9be456ef",
   "metadata": {
    "execution": {
     "iopub.execute_input": "2024-05-08T20:10:13.609512Z",
     "iopub.status.busy": "2024-05-08T20:10:13.609155Z",
     "iopub.status.idle": "2024-05-08T20:10:13.622086Z",
     "shell.execute_reply": "2024-05-08T20:10:13.620974Z"
    },
    "papermill": {
     "duration": 0.025909,
     "end_time": "2024-05-08T20:10:13.624081",
     "exception": false,
     "start_time": "2024-05-08T20:10:13.598172",
     "status": "completed"
    },
    "tags": []
   },
   "outputs": [
    {
     "name": "stdout",
     "output_type": "stream",
     "text": [
      "              precision    recall  f1-score   support\n",
      "\n",
      "           0       0.98      0.99      0.99      1056\n",
      "           1       0.98      0.96      0.97       484\n",
      "\n",
      "    accuracy                           0.98      1540\n",
      "   macro avg       0.98      0.97      0.98      1540\n",
      "weighted avg       0.98      0.98      0.98      1540\n",
      "\n"
     ]
    }
   ],
   "source": [
    "from sklearn.metrics import classification_report\n",
    "print(classification_report(y_test, preds_svm))"
   ]
  },
  {
   "cell_type": "code",
   "execution_count": 14,
   "id": "54edd746",
   "metadata": {
    "execution": {
     "iopub.execute_input": "2024-05-08T20:10:13.645759Z",
     "iopub.status.busy": "2024-05-08T20:10:13.645467Z",
     "iopub.status.idle": "2024-05-08T20:10:13.651564Z",
     "shell.execute_reply": "2024-05-08T20:10:13.650430Z"
    },
    "papermill": {
     "duration": 0.018863,
     "end_time": "2024-05-08T20:10:13.653593",
     "exception": false,
     "start_time": "2024-05-08T20:10:13.634730",
     "status": "completed"
    },
    "tags": []
   },
   "outputs": [
    {
     "name": "stdout",
     "output_type": "stream",
     "text": [
      "Accuracy:  98.05194805194806\n"
     ]
    }
   ],
   "source": [
    "print('Accuracy: ', accuracy_score(y_test, preds_svm)*100)"
   ]
  },
  {
   "cell_type": "markdown",
   "id": "23bb7667",
   "metadata": {
    "papermill": {
     "duration": 0.009541,
     "end_time": "2024-05-08T20:10:13.672957",
     "exception": false,
     "start_time": "2024-05-08T20:10:13.663416",
     "status": "completed"
    },
    "tags": []
   },
   "source": [
    "### 2. LSTM"
   ]
  },
  {
   "cell_type": "code",
   "execution_count": 15,
   "id": "379c3f70",
   "metadata": {
    "execution": {
     "iopub.execute_input": "2024-05-08T20:10:13.693527Z",
     "iopub.status.busy": "2024-05-08T20:10:13.693253Z",
     "iopub.status.idle": "2024-05-08T20:10:27.187066Z",
     "shell.execute_reply": "2024-05-08T20:10:27.185995Z"
    },
    "papermill": {
     "duration": 13.506952,
     "end_time": "2024-05-08T20:10:27.189489",
     "exception": false,
     "start_time": "2024-05-08T20:10:13.682537",
     "status": "completed"
    },
    "tags": []
   },
   "outputs": [
    {
     "name": "stderr",
     "output_type": "stream",
     "text": [
      "2024-05-08 20:10:16.040890: E external/local_xla/xla/stream_executor/cuda/cuda_dnn.cc:9261] Unable to register cuDNN factory: Attempting to register factory for plugin cuDNN when one has already been registered\n",
      "2024-05-08 20:10:16.041010: E external/local_xla/xla/stream_executor/cuda/cuda_fft.cc:607] Unable to register cuFFT factory: Attempting to register factory for plugin cuFFT when one has already been registered\n",
      "2024-05-08 20:10:16.201099: E external/local_xla/xla/stream_executor/cuda/cuda_blas.cc:1515] Unable to register cuBLAS factory: Attempting to register factory for plugin cuBLAS when one has already been registered\n"
     ]
    }
   ],
   "source": [
    "from keras.models import Sequential\n",
    "from keras.layers import Input, Dense, Dropout, LSTM, Activation, Embedding\n",
    "from keras import Model\n",
    "from keras.preprocessing import sequence"
   ]
  },
  {
   "cell_type": "markdown",
   "id": "9474b7e9",
   "metadata": {
    "papermill": {
     "duration": 0.009481,
     "end_time": "2024-05-08T20:10:27.209240",
     "exception": false,
     "start_time": "2024-05-08T20:10:27.199759",
     "status": "completed"
    },
    "tags": []
   },
   "source": [
    "- Sử dụng tokenizer với số từ vựng là 5000 và độ dài vector của mỗi mẫu là 2000"
   ]
  },
  {
   "cell_type": "code",
   "execution_count": 16,
   "id": "2d4aa512",
   "metadata": {
    "execution": {
     "iopub.execute_input": "2024-05-08T20:10:27.231136Z",
     "iopub.status.busy": "2024-05-08T20:10:27.230139Z",
     "iopub.status.idle": "2024-05-08T20:10:33.018682Z",
     "shell.execute_reply": "2024-05-08T20:10:33.017715Z"
    },
    "papermill": {
     "duration": 5.801796,
     "end_time": "2024-05-08T20:10:33.021040",
     "exception": false,
     "start_time": "2024-05-08T20:10:27.219244",
     "status": "completed"
    },
    "tags": []
   },
   "outputs": [],
   "source": [
    "import tensorflow as tf\n",
    "max_words = 5000\n",
    "max_len = 2000\n",
    "tokenizer = tf.keras.preprocessing.text.Tokenizer(num_words=max_words)\n",
    "tokenizer.fit_on_texts(X_train)\n",
    "sequences = tokenizer.texts_to_sequences(X_train)\n",
    "sequences_matrix = sequence.pad_sequences(sequences,maxlen=max_len)"
   ]
  },
  {
   "cell_type": "markdown",
   "id": "3cfddb11",
   "metadata": {
    "papermill": {
     "duration": 0.01006,
     "end_time": "2024-05-08T20:10:33.041167",
     "exception": false,
     "start_time": "2024-05-08T20:10:33.031107",
     "status": "completed"
    },
    "tags": []
   },
   "source": [
    "- Định nghĩa model LSTM"
   ]
  },
  {
   "cell_type": "code",
   "execution_count": 17,
   "id": "3df6aacb",
   "metadata": {
    "execution": {
     "iopub.execute_input": "2024-05-08T20:10:33.063202Z",
     "iopub.status.busy": "2024-05-08T20:10:33.062393Z",
     "iopub.status.idle": "2024-05-08T20:10:33.068390Z",
     "shell.execute_reply": "2024-05-08T20:10:33.067538Z"
    },
    "papermill": {
     "duration": 0.019618,
     "end_time": "2024-05-08T20:10:33.070291",
     "exception": false,
     "start_time": "2024-05-08T20:10:33.050673",
     "status": "completed"
    },
    "tags": []
   },
   "outputs": [],
   "source": [
    "def define_model():\n",
    "    inputs = Input(shape=[max_len])\n",
    "    layer = Embedding(max_words,50)(inputs)\n",
    "    layer = LSTM(64)(layer)\n",
    "    layer = Dropout(0.2)(layer)\n",
    "    layer = Dense(1)(layer)\n",
    "    layer = Activation('sigmoid')(layer)\n",
    "    model = Model(inputs=inputs,outputs=layer)\n",
    "    model.compile(loss='binary_crossentropy', optimizer='Nadam')\n",
    "    model.summary()\n",
    "    \n",
    "    return model"
   ]
  },
  {
   "cell_type": "markdown",
   "id": "8c8dd276",
   "metadata": {
    "papermill": {
     "duration": 0.009597,
     "end_time": "2024-05-08T20:10:33.089545",
     "exception": false,
     "start_time": "2024-05-08T20:10:33.079948",
     "status": "completed"
    },
    "tags": []
   },
   "source": [
    "- Khởi tạo model"
   ]
  },
  {
   "cell_type": "code",
   "execution_count": 18,
   "id": "bb0bbfa7",
   "metadata": {
    "execution": {
     "iopub.execute_input": "2024-05-08T20:10:33.111147Z",
     "iopub.status.busy": "2024-05-08T20:10:33.110617Z",
     "iopub.status.idle": "2024-05-08T20:10:34.830141Z",
     "shell.execute_reply": "2024-05-08T20:10:34.829298Z"
    },
    "papermill": {
     "duration": 1.732021,
     "end_time": "2024-05-08T20:10:34.832157",
     "exception": false,
     "start_time": "2024-05-08T20:10:33.100136",
     "status": "completed"
    },
    "tags": []
   },
   "outputs": [
    {
     "data": {
      "text/html": [
       "<pre style=\"white-space:pre;overflow-x:auto;line-height:normal;font-family:Menlo,'DejaVu Sans Mono',consolas,'Courier New',monospace\"><span style=\"font-weight: bold\">Model: \"functional_1\"</span>\n",
       "</pre>\n"
      ],
      "text/plain": [
       "\u001b[1mModel: \"functional_1\"\u001b[0m\n"
      ]
     },
     "metadata": {},
     "output_type": "display_data"
    },
    {
     "data": {
      "text/html": [
       "<pre style=\"white-space:pre;overflow-x:auto;line-height:normal;font-family:Menlo,'DejaVu Sans Mono',consolas,'Courier New',monospace\">┏━━━━━━━━━━━━━━━━━━━━━━━━━━━━━━━━━┳━━━━━━━━━━━━━━━━━━━━━━━━┳━━━━━━━━━━━━━━━┓\n",
       "┃<span style=\"font-weight: bold\"> Layer (type)                    </span>┃<span style=\"font-weight: bold\"> Output Shape           </span>┃<span style=\"font-weight: bold\">       Param # </span>┃\n",
       "┡━━━━━━━━━━━━━━━━━━━━━━━━━━━━━━━━━╇━━━━━━━━━━━━━━━━━━━━━━━━╇━━━━━━━━━━━━━━━┩\n",
       "│ input_layer (<span style=\"color: #0087ff; text-decoration-color: #0087ff\">InputLayer</span>)        │ (<span style=\"color: #00d7ff; text-decoration-color: #00d7ff\">None</span>, <span style=\"color: #00af00; text-decoration-color: #00af00\">2000</span>)           │             <span style=\"color: #00af00; text-decoration-color: #00af00\">0</span> │\n",
       "├─────────────────────────────────┼────────────────────────┼───────────────┤\n",
       "│ embedding (<span style=\"color: #0087ff; text-decoration-color: #0087ff\">Embedding</span>)           │ (<span style=\"color: #00d7ff; text-decoration-color: #00d7ff\">None</span>, <span style=\"color: #00af00; text-decoration-color: #00af00\">2000</span>, <span style=\"color: #00af00; text-decoration-color: #00af00\">50</span>)       │       <span style=\"color: #00af00; text-decoration-color: #00af00\">250,000</span> │\n",
       "├─────────────────────────────────┼────────────────────────┼───────────────┤\n",
       "│ lstm (<span style=\"color: #0087ff; text-decoration-color: #0087ff\">LSTM</span>)                     │ (<span style=\"color: #00d7ff; text-decoration-color: #00d7ff\">None</span>, <span style=\"color: #00af00; text-decoration-color: #00af00\">64</span>)             │        <span style=\"color: #00af00; text-decoration-color: #00af00\">29,440</span> │\n",
       "├─────────────────────────────────┼────────────────────────┼───────────────┤\n",
       "│ dropout (<span style=\"color: #0087ff; text-decoration-color: #0087ff\">Dropout</span>)               │ (<span style=\"color: #00d7ff; text-decoration-color: #00d7ff\">None</span>, <span style=\"color: #00af00; text-decoration-color: #00af00\">64</span>)             │             <span style=\"color: #00af00; text-decoration-color: #00af00\">0</span> │\n",
       "├─────────────────────────────────┼────────────────────────┼───────────────┤\n",
       "│ dense (<span style=\"color: #0087ff; text-decoration-color: #0087ff\">Dense</span>)                   │ (<span style=\"color: #00d7ff; text-decoration-color: #00d7ff\">None</span>, <span style=\"color: #00af00; text-decoration-color: #00af00\">1</span>)              │            <span style=\"color: #00af00; text-decoration-color: #00af00\">65</span> │\n",
       "├─────────────────────────────────┼────────────────────────┼───────────────┤\n",
       "│ activation (<span style=\"color: #0087ff; text-decoration-color: #0087ff\">Activation</span>)         │ (<span style=\"color: #00d7ff; text-decoration-color: #00d7ff\">None</span>, <span style=\"color: #00af00; text-decoration-color: #00af00\">1</span>)              │             <span style=\"color: #00af00; text-decoration-color: #00af00\">0</span> │\n",
       "└─────────────────────────────────┴────────────────────────┴───────────────┘\n",
       "</pre>\n"
      ],
      "text/plain": [
       "┏━━━━━━━━━━━━━━━━━━━━━━━━━━━━━━━━━┳━━━━━━━━━━━━━━━━━━━━━━━━┳━━━━━━━━━━━━━━━┓\n",
       "┃\u001b[1m \u001b[0m\u001b[1mLayer (type)                   \u001b[0m\u001b[1m \u001b[0m┃\u001b[1m \u001b[0m\u001b[1mOutput Shape          \u001b[0m\u001b[1m \u001b[0m┃\u001b[1m \u001b[0m\u001b[1m      Param #\u001b[0m\u001b[1m \u001b[0m┃\n",
       "┡━━━━━━━━━━━━━━━━━━━━━━━━━━━━━━━━━╇━━━━━━━━━━━━━━━━━━━━━━━━╇━━━━━━━━━━━━━━━┩\n",
       "│ input_layer (\u001b[38;5;33mInputLayer\u001b[0m)        │ (\u001b[38;5;45mNone\u001b[0m, \u001b[38;5;34m2000\u001b[0m)           │             \u001b[38;5;34m0\u001b[0m │\n",
       "├─────────────────────────────────┼────────────────────────┼───────────────┤\n",
       "│ embedding (\u001b[38;5;33mEmbedding\u001b[0m)           │ (\u001b[38;5;45mNone\u001b[0m, \u001b[38;5;34m2000\u001b[0m, \u001b[38;5;34m50\u001b[0m)       │       \u001b[38;5;34m250,000\u001b[0m │\n",
       "├─────────────────────────────────┼────────────────────────┼───────────────┤\n",
       "│ lstm (\u001b[38;5;33mLSTM\u001b[0m)                     │ (\u001b[38;5;45mNone\u001b[0m, \u001b[38;5;34m64\u001b[0m)             │        \u001b[38;5;34m29,440\u001b[0m │\n",
       "├─────────────────────────────────┼────────────────────────┼───────────────┤\n",
       "│ dropout (\u001b[38;5;33mDropout\u001b[0m)               │ (\u001b[38;5;45mNone\u001b[0m, \u001b[38;5;34m64\u001b[0m)             │             \u001b[38;5;34m0\u001b[0m │\n",
       "├─────────────────────────────────┼────────────────────────┼───────────────┤\n",
       "│ dense (\u001b[38;5;33mDense\u001b[0m)                   │ (\u001b[38;5;45mNone\u001b[0m, \u001b[38;5;34m1\u001b[0m)              │            \u001b[38;5;34m65\u001b[0m │\n",
       "├─────────────────────────────────┼────────────────────────┼───────────────┤\n",
       "│ activation (\u001b[38;5;33mActivation\u001b[0m)         │ (\u001b[38;5;45mNone\u001b[0m, \u001b[38;5;34m1\u001b[0m)              │             \u001b[38;5;34m0\u001b[0m │\n",
       "└─────────────────────────────────┴────────────────────────┴───────────────┘\n"
      ]
     },
     "metadata": {},
     "output_type": "display_data"
    },
    {
     "data": {
      "text/html": [
       "<pre style=\"white-space:pre;overflow-x:auto;line-height:normal;font-family:Menlo,'DejaVu Sans Mono',consolas,'Courier New',monospace\"><span style=\"font-weight: bold\"> Total params: </span><span style=\"color: #00af00; text-decoration-color: #00af00\">279,505</span> (1.07 MB)\n",
       "</pre>\n"
      ],
      "text/plain": [
       "\u001b[1m Total params: \u001b[0m\u001b[38;5;34m279,505\u001b[0m (1.07 MB)\n"
      ]
     },
     "metadata": {},
     "output_type": "display_data"
    },
    {
     "data": {
      "text/html": [
       "<pre style=\"white-space:pre;overflow-x:auto;line-height:normal;font-family:Menlo,'DejaVu Sans Mono',consolas,'Courier New',monospace\"><span style=\"font-weight: bold\"> Trainable params: </span><span style=\"color: #00af00; text-decoration-color: #00af00\">279,505</span> (1.07 MB)\n",
       "</pre>\n"
      ],
      "text/plain": [
       "\u001b[1m Trainable params: \u001b[0m\u001b[38;5;34m279,505\u001b[0m (1.07 MB)\n"
      ]
     },
     "metadata": {},
     "output_type": "display_data"
    },
    {
     "data": {
      "text/html": [
       "<pre style=\"white-space:pre;overflow-x:auto;line-height:normal;font-family:Menlo,'DejaVu Sans Mono',consolas,'Courier New',monospace\"><span style=\"font-weight: bold\"> Non-trainable params: </span><span style=\"color: #00af00; text-decoration-color: #00af00\">0</span> (0.00 B)\n",
       "</pre>\n"
      ],
      "text/plain": [
       "\u001b[1m Non-trainable params: \u001b[0m\u001b[38;5;34m0\u001b[0m (0.00 B)\n"
      ]
     },
     "metadata": {},
     "output_type": "display_data"
    }
   ],
   "source": [
    "model = define_model()"
   ]
  },
  {
   "cell_type": "code",
   "execution_count": 19,
   "id": "12651f15",
   "metadata": {
    "execution": {
     "iopub.execute_input": "2024-05-08T20:10:34.855033Z",
     "iopub.status.busy": "2024-05-08T20:10:34.854464Z",
     "iopub.status.idle": "2024-05-08T20:11:30.747222Z",
     "shell.execute_reply": "2024-05-08T20:11:30.746283Z"
    },
    "papermill": {
     "duration": 55.906738,
     "end_time": "2024-05-08T20:11:30.749468",
     "exception": false,
     "start_time": "2024-05-08T20:10:34.842730",
     "status": "completed"
    },
    "tags": []
   },
   "outputs": [
    {
     "name": "stdout",
     "output_type": "stream",
     "text": [
      "Epoch 1/10\n",
      "\u001b[1m77/77\u001b[0m \u001b[32m━━━━━━━━━━━━━━━━━━━━\u001b[0m\u001b[37m\u001b[0m \u001b[1m10s\u001b[0m 73ms/step - loss: 0.5224 - val_loss: 0.1165\n",
      "Epoch 2/10\n",
      "\u001b[1m77/77\u001b[0m \u001b[32m━━━━━━━━━━━━━━━━━━━━\u001b[0m\u001b[37m\u001b[0m \u001b[1m5s\u001b[0m 66ms/step - loss: 0.1078 - val_loss: 0.1292\n",
      "Epoch 3/10\n",
      "\u001b[1m77/77\u001b[0m \u001b[32m━━━━━━━━━━━━━━━━━━━━\u001b[0m\u001b[37m\u001b[0m \u001b[1m5s\u001b[0m 67ms/step - loss: 0.0701 - val_loss: 0.1211\n",
      "Epoch 4/10\n",
      "\u001b[1m77/77\u001b[0m \u001b[32m━━━━━━━━━━━━━━━━━━━━\u001b[0m\u001b[37m\u001b[0m \u001b[1m5s\u001b[0m 66ms/step - loss: 0.0509 - val_loss: 0.1346\n",
      "Epoch 5/10\n",
      "\u001b[1m77/77\u001b[0m \u001b[32m━━━━━━━━━━━━━━━━━━━━\u001b[0m\u001b[37m\u001b[0m \u001b[1m5s\u001b[0m 66ms/step - loss: 0.0394 - val_loss: 0.1110\n",
      "Epoch 6/10\n",
      "\u001b[1m77/77\u001b[0m \u001b[32m━━━━━━━━━━━━━━━━━━━━\u001b[0m\u001b[37m\u001b[0m \u001b[1m5s\u001b[0m 66ms/step - loss: 0.0180 - val_loss: 0.1214\n",
      "Epoch 7/10\n",
      "\u001b[1m77/77\u001b[0m \u001b[32m━━━━━━━━━━━━━━━━━━━━\u001b[0m\u001b[37m\u001b[0m \u001b[1m5s\u001b[0m 67ms/step - loss: 0.0719 - val_loss: 0.1532\n",
      "Epoch 8/10\n",
      "\u001b[1m77/77\u001b[0m \u001b[32m━━━━━━━━━━━━━━━━━━━━\u001b[0m\u001b[37m\u001b[0m \u001b[1m5s\u001b[0m 66ms/step - loss: 0.1068 - val_loss: 0.1686\n",
      "Epoch 9/10\n",
      "\u001b[1m77/77\u001b[0m \u001b[32m━━━━━━━━━━━━━━━━━━━━\u001b[0m\u001b[37m\u001b[0m \u001b[1m5s\u001b[0m 66ms/step - loss: 0.0419 - val_loss: 0.1616\n",
      "Epoch 10/10\n",
      "\u001b[1m77/77\u001b[0m \u001b[32m━━━━━━━━━━━━━━━━━━━━\u001b[0m\u001b[37m\u001b[0m \u001b[1m5s\u001b[0m 66ms/step - loss: 0.0216 - val_loss: 0.1285\n"
     ]
    }
   ],
   "source": [
    "history = model.fit(sequences_matrix, y_train, batch_size=64, epochs=10, validation_split=0.2);"
   ]
  },
  {
   "cell_type": "code",
   "execution_count": 20,
   "id": "6c975010",
   "metadata": {
    "execution": {
     "iopub.execute_input": "2024-05-08T20:11:30.894909Z",
     "iopub.status.busy": "2024-05-08T20:11:30.894234Z",
     "iopub.status.idle": "2024-05-08T20:11:31.609732Z",
     "shell.execute_reply": "2024-05-08T20:11:31.608849Z"
    },
    "papermill": {
     "duration": 0.79021,
     "end_time": "2024-05-08T20:11:31.612037",
     "exception": false,
     "start_time": "2024-05-08T20:11:30.821827",
     "status": "completed"
    },
    "tags": []
   },
   "outputs": [],
   "source": [
    "test_sequences = tokenizer.texts_to_sequences(X_test)\n",
    "test_sequences_matrix = sequence.pad_sequences(test_sequences,maxlen=max_len)"
   ]
  },
  {
   "cell_type": "code",
   "execution_count": 21,
   "id": "78192386",
   "metadata": {
    "execution": {
     "iopub.execute_input": "2024-05-08T20:11:31.799471Z",
     "iopub.status.busy": "2024-05-08T20:11:31.798738Z",
     "iopub.status.idle": "2024-05-08T20:11:34.479691Z",
     "shell.execute_reply": "2024-05-08T20:11:34.478774Z"
    },
    "papermill": {
     "duration": 2.755045,
     "end_time": "2024-05-08T20:11:34.481794",
     "exception": false,
     "start_time": "2024-05-08T20:11:31.726749",
     "status": "completed"
    },
    "tags": []
   },
   "outputs": [
    {
     "name": "stdout",
     "output_type": "stream",
     "text": [
      "\u001b[1m49/49\u001b[0m \u001b[32m━━━━━━━━━━━━━━━━━━━━\u001b[0m\u001b[37m\u001b[0m \u001b[1m1s\u001b[0m 23ms/step - loss: 0.1649\n",
      "\u001b[1m49/49\u001b[0m \u001b[32m━━━━━━━━━━━━━━━━━━━━\u001b[0m\u001b[37m\u001b[0m \u001b[1m1s\u001b[0m 24ms/step\n"
     ]
    }
   ],
   "source": [
    "results = model.evaluate(test_sequences_matrix,y_test)\n",
    "preds_lstm_embedding = model.predict(test_sequences_matrix)"
   ]
  },
  {
   "cell_type": "code",
   "execution_count": 22,
   "id": "b484a1ac",
   "metadata": {
    "execution": {
     "iopub.execute_input": "2024-05-08T20:11:34.636027Z",
     "iopub.status.busy": "2024-05-08T20:11:34.635347Z",
     "iopub.status.idle": "2024-05-08T20:11:34.639727Z",
     "shell.execute_reply": "2024-05-08T20:11:34.638842Z"
    },
    "papermill": {
     "duration": 0.08272,
     "end_time": "2024-05-08T20:11:34.641513",
     "exception": false,
     "start_time": "2024-05-08T20:11:34.558793",
     "status": "completed"
    },
    "tags": []
   },
   "outputs": [],
   "source": [
    "threshold = 0.5\n",
    "preds_lstm_embedding = np.where(preds_lstm_embedding > threshold, 1,0)"
   ]
  },
  {
   "cell_type": "code",
   "execution_count": 23,
   "id": "b90d999d",
   "metadata": {
    "execution": {
     "iopub.execute_input": "2024-05-08T20:11:34.796375Z",
     "iopub.status.busy": "2024-05-08T20:11:34.796033Z",
     "iopub.status.idle": "2024-05-08T20:11:34.808917Z",
     "shell.execute_reply": "2024-05-08T20:11:34.807950Z"
    },
    "papermill": {
     "duration": 0.090476,
     "end_time": "2024-05-08T20:11:34.810959",
     "exception": false,
     "start_time": "2024-05-08T20:11:34.720483",
     "status": "completed"
    },
    "tags": []
   },
   "outputs": [
    {
     "name": "stdout",
     "output_type": "stream",
     "text": [
      "              precision    recall  f1-score   support\n",
      "\n",
      "           0       0.97      0.99      0.98      1056\n",
      "           1       0.98      0.92      0.95       484\n",
      "\n",
      "    accuracy                           0.97      1540\n",
      "   macro avg       0.97      0.96      0.96      1540\n",
      "weighted avg       0.97      0.97      0.97      1540\n",
      "\n"
     ]
    }
   ],
   "source": [
    "print(classification_report(y_test, preds_lstm_embedding))"
   ]
  },
  {
   "cell_type": "code",
   "execution_count": 24,
   "id": "b96f1c51",
   "metadata": {
    "execution": {
     "iopub.execute_input": "2024-05-08T20:11:34.961887Z",
     "iopub.status.busy": "2024-05-08T20:11:34.961175Z",
     "iopub.status.idle": "2024-05-08T20:11:34.967470Z",
     "shell.execute_reply": "2024-05-08T20:11:34.966520Z"
    },
    "papermill": {
     "duration": 0.083519,
     "end_time": "2024-05-08T20:11:34.969327",
     "exception": false,
     "start_time": "2024-05-08T20:11:34.885808",
     "status": "completed"
    },
    "tags": []
   },
   "outputs": [
    {
     "name": "stdout",
     "output_type": "stream",
     "text": [
      "Accuracy:  96.88311688311688\n"
     ]
    }
   ],
   "source": [
    "print('Accuracy: ', accuracy_score(y_test, preds_lstm_embedding)*100)"
   ]
  }
 ],
 "metadata": {
  "kaggle": {
   "accelerator": "nvidiaTeslaT4",
   "dataSources": [
    {
     "datasetId": 4964249,
     "sourceId": 8354695,
     "sourceType": "datasetVersion"
    }
   ],
   "dockerImageVersionId": 30698,
   "isGpuEnabled": true,
   "isInternetEnabled": true,
   "language": "python",
   "sourceType": "notebook"
  },
  "kernelspec": {
   "display_name": "Python 3",
   "language": "python",
   "name": "python3"
  },
  "language_info": {
   "codemirror_mode": {
    "name": "ipython",
    "version": 3
   },
   "file_extension": ".py",
   "mimetype": "text/x-python",
   "name": "python",
   "nbconvert_exporter": "python",
   "pygments_lexer": "ipython3",
   "version": "3.9.9"
  },
  "papermill": {
   "default_parameters": {},
   "duration": 102.356137,
   "end_time": "2024-05-08T20:11:37.167480",
   "environment_variables": {},
   "exception": null,
   "input_path": "__notebook__.ipynb",
   "output_path": "__notebook__.ipynb",
   "parameters": {},
   "start_time": "2024-05-08T20:09:54.811343",
   "version": "2.5.0"
  }
 },
 "nbformat": 4,
 "nbformat_minor": 5
}
